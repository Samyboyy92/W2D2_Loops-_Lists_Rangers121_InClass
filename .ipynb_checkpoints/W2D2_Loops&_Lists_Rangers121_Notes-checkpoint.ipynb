{
 "cells": [
  {
   "cell_type": "markdown",
   "metadata": {},
   "source": [
    "# Functions, Scoping, Data Collections 1 & List Comprehensions"
   ]
  },
  {
   "cell_type": "markdown",
   "metadata": {},
   "source": [
    "## Tasks Today:\n",
    "\n",
    "<i>Monday Additions (for loops)</i>\n",
    "\n",
    "1) For Loops <br>\n",
    " &nbsp;&nbsp;&nbsp;&nbsp; a) Using 'in' keyword <br>\n",
    " &nbsp;&nbsp;&nbsp;&nbsp; b) Continue Statement <br>\n",
    " &nbsp;&nbsp;&nbsp;&nbsp; c) Break Statement <br>\n",
    " &nbsp;&nbsp;&nbsp;&nbsp; d) Pass Statement <br>\n",
    " &nbsp;&nbsp;&nbsp;&nbsp; e) Double For Loops <br>\n",
    "2) While Loops <br>\n",
    " &nbsp;&nbsp;&nbsp;&nbsp; a) Looping 'While True' <br>\n",
    " &nbsp;&nbsp;&nbsp;&nbsp; b) While and For Loops Used Together <br>\n",
    " \n",
    "3) Lists <br>\n",
    " &nbsp;&nbsp;&nbsp;&nbsp; a) Declaring Lists <br>\n",
    " &nbsp;&nbsp;&nbsp;&nbsp; b) Indexing a List <br>\n",
    " &nbsp;&nbsp;&nbsp;&nbsp; c) .append() <br>\n",
    " &nbsp;&nbsp;&nbsp;&nbsp; d) .insert() <br>\n",
    " &nbsp;&nbsp;&nbsp;&nbsp; e) .pop() <br>\n",
    " &nbsp;&nbsp;&nbsp;&nbsp; f) .remove() <br>\n",
    " &nbsp;&nbsp;&nbsp;&nbsp; g) del() <br>\n",
    " &nbsp;&nbsp;&nbsp;&nbsp; h) Concatenating Two Lists <br>\n",
    " &nbsp;&nbsp;&nbsp;&nbsp; i) Lists Within Lists <br>\n",
    " &nbsp;&nbsp;&nbsp;&nbsp; j) Looping Through Lists <br>\n",
    "4) Working With Lists <br>\n",
    " &nbsp;&nbsp;&nbsp;&nbsp; a) min() <br>\n",
    " &nbsp;&nbsp;&nbsp;&nbsp; b) max() <br>\n",
    " &nbsp;&nbsp;&nbsp;&nbsp; c) sum() <br>\n",
    " &nbsp;&nbsp;&nbsp;&nbsp; d) sort() <br>\n",
    " &nbsp;&nbsp;&nbsp;&nbsp; e) Copying a List <br>\n",
    " &nbsp;&nbsp;&nbsp;&nbsp; f) 'in' keyword <br>\n",
    " &nbsp;&nbsp;&nbsp;&nbsp; g) 'not in' keyword <br>\n",
    " &nbsp;&nbsp;&nbsp;&nbsp; i) Checking an Empty List <br>\n",
    " &nbsp;&nbsp;&nbsp;&nbsp; j) Removing Instances with a Loop <br> \n",
    "5) List Comprehensions <br>\n",
    "6) Tuples <br>\n",
    " &nbsp;&nbsp;&nbsp;&nbsp; a) sorted() <br>\n"
   ]
  },
  {
   "cell_type": "markdown",
   "metadata": {},
   "source": [
    "### For Loops"
   ]
  },
  {
   "cell_type": "code",
   "execution_count": null,
   "metadata": {},
   "outputs": [],
   "source": [
    "# for keyword, counter/iterator, in keyword, object\n",
    "\n",
    "for i in range(10):\n",
    "    print(i)\n",
    "    \n",
    "print(\"\\n\")\n",
    "name = \"Sam Mennenga\"\n",
    "for letter in name:\n",
    "    if letter == \" \":\n",
    "        print('this is a space')\n",
    "    else:\n",
    "        print(letter)\n"
   ]
  },
  {
   "cell_type": "markdown",
   "metadata": {},
   "source": [
    "##### Using 'in' keyword"
   ]
  },
  {
   "cell_type": "code",
   "execution_count": null,
   "metadata": {},
   "outputs": [],
   "source": [
    "#in is what accesses the items in an iterable\n",
    "for num in range(15):\n",
    "    print(num**2)"
   ]
  },
  {
   "cell_type": "markdown",
   "metadata": {},
   "source": [
    "##### Continue Statement"
   ]
  },
  {
   "cell_type": "code",
   "execution_count": null,
   "metadata": {},
   "outputs": [],
   "source": [
    "#continue\n",
    "for i in range(5):\n",
    "    print(i)\n",
    "for i in range(10):\n",
    "    if i == 5 or i == 6:\n",
    "        print(i)\n"
   ]
  },
  {
   "cell_type": "markdown",
   "metadata": {},
   "source": [
    "##### Break Statement"
   ]
  },
  {
   "cell_type": "code",
   "execution_count": null,
   "metadata": {},
   "outputs": [],
   "source": [
    "#will break our of current loop\n",
    "\n",
    "for i in range(100):\n",
    "    if i == 23:\n",
    "        print(i)\n",
    "        break\n",
    "    print(i)\n"
   ]
  },
  {
   "cell_type": "markdown",
   "metadata": {},
   "source": [
    "##### Pass Statement"
   ]
  },
  {
   "cell_type": "code",
   "execution_count": null,
   "metadata": {},
   "outputs": [],
   "source": [
    "# mostly used as a placeholder, and will continue on same iteration\n",
    "for i in range(1234):\n",
    "    pass\n",
    "    \n",
    "for i in range(10):\n",
    "    print(i)\n",
    "    \n",
    "def do_this_later():\n",
    "    #this function will do great things\n",
    "    #remember to do stuff with this function\n",
    "    pass\n",
    "    "
   ]
  },
  {
   "cell_type": "markdown",
   "metadata": {},
   "source": [
    "##### Double For Loops"
   ]
  },
  {
   "cell_type": "code",
   "execution_count": null,
   "metadata": {},
   "outputs": [],
   "source": [
    "for i in range(5):\n",
    "    print(\"i = \", i,)\n",
    "    for j in range(5):\n",
    "        print(\"j = \", j)"
   ]
  },
  {
   "cell_type": "markdown",
   "metadata": {},
   "source": [
    "### While Loops"
   ]
  },
  {
   "cell_type": "code",
   "execution_count": null,
   "metadata": {},
   "outputs": [],
   "source": [
    "#while keyword, condition statement\n",
    "#while loop will run based on the condition statement\n",
    "counter = 0 \n",
    "while counter < 11:\n",
    "    counter += 1\n",
    "    print(counter)\n",
    "    \n",
    "counter - 1 \n",
    "\n",
    "while counter < 100\n",
    "    print(counter)\n",
    "    counter+=2\n",
    "\n"
   ]
  },
  {
   "cell_type": "markdown",
   "metadata": {},
   "source": [
    "##### looping 'While True'"
   ]
  },
  {
   "cell_type": "code",
   "execution_count": null,
   "metadata": {},
   "outputs": [],
   "source": [
    "# true as a condition for while loop to run\n",
    "game_over = True\n",
    "counter = 0\n",
    "while game_over:\n",
    "    counter += 1\n",
    "    print(\"infinite loop\")\n",
    "    if counter == 10:\n",
    "    if game_over = false:\n",
    "        break"
   ]
  },
  {
   "cell_type": "markdown",
   "metadata": {},
   "source": [
    "##### While & For Loops Used Together"
   ]
  },
  {
   "cell_type": "code",
   "execution_count": 2,
   "metadata": {},
   "outputs": [
    {
     "name": "stdout",
     "output_type": "stream",
     "text": [
      "\n",
      " while loop iteration: 0\n",
      "For lopp iteration: 0\n",
      "For lopp iteration: 1\n",
      "\n",
      " while loop iteration: 1\n",
      "For lopp iteration: 0\n",
      "For lopp iteration: 1\n",
      "\n",
      " while loop iteration: 2\n",
      "For lopp iteration: 0\n",
      "For lopp iteration: 1\n",
      "\n",
      " while loop iteration: 3\n",
      "For lopp iteration: 0\n",
      "For lopp iteration: 1\n",
      "\n",
      " while loop iteration: 4\n",
      "For lopp iteration: 0\n",
      "For lopp iteration: 1\n",
      "\n",
      " while loop iteration: 5\n",
      "For lopp iteration: 0\n",
      "For lopp iteration: 1\n",
      "\n",
      " while loop iteration: 6\n",
      "For lopp iteration: 0\n",
      "For lopp iteration: 1\n",
      "\n",
      " while loop iteration: 7\n",
      "For lopp iteration: 0\n",
      "For lopp iteration: 1\n",
      "\n",
      " while loop iteration: 8\n",
      "For lopp iteration: 0\n",
      "For lopp iteration: 1\n",
      "\n",
      " while loop iteration: 9\n",
      "For lopp iteration: 0\n",
      "For lopp iteration: 1\n"
     ]
    }
   ],
   "source": [
    "j = 0\n",
    "\n",
    "while j < 10:\n",
    "    print(\"\\n while loop iteration: \" + str(j))\n",
    "    for i in range(2):\n",
    "        print(\"For lopp iteration: \" + str(i))\n",
    "        \n",
    "    j += 1"
   ]
  },
  {
   "cell_type": "markdown",
   "metadata": {},
   "source": [
    "##### The Range Function"
   ]
  },
  {
   "cell_type": "code",
   "execution_count": 2,
   "metadata": {},
   "outputs": [
    {
     "name": "stdout",
     "output_type": "stream",
     "text": [
      "0\n",
      "1\n",
      "2\n",
      "3\n",
      "4\n",
      "5\n",
      "6\n",
      "7\n",
      "8\n",
      "9\n",
      "\n",
      "\n",
      "2\n",
      "3\n",
      "4\n",
      "5\n",
      "6\n",
      "7\n",
      "8\n",
      "9\n",
      "\n",
      "\n",
      "1\n",
      "4\n",
      "7\n",
      "10\n",
      "13\n",
      "16\n",
      "19\n"
     ]
    }
   ],
   "source": [
    "# range(start, stop, step) - stop is required and start defaults to 0 if none is given\n",
    "\n",
    "for i in range(10): #stop\n",
    "    print(i)\n",
    "print(\"\\n\")\n",
    "for i in range(2, 10): # start and stop\n",
    "    print(i)\n",
    "print(\"\\n\")    \n",
    "for i in range(1, 20, 3): #start, stop, step\n",
    "    print(i)\n",
    "    "
   ]
  },
  {
   "cell_type": "markdown",
   "metadata": {},
   "source": [
    "### String Manipulation Exercise"
   ]
  },
  {
   "cell_type": "code",
   "execution_count": 4,
   "metadata": {},
   "outputs": [
    {
     "name": "stdout",
     "output_type": "stream",
     "text": [
      "Connor\n",
      "Max\n",
      "Evan\n",
      "Jordan\n"
     ]
    }
   ],
   "source": [
    "names = ['    coNNor', 'max', ' EVan ', 'JORDAN']\n",
    "# HINT: You will need to use a for loop for iteration\n",
    "# Loop through the names list, remove white space and capitalize/title the first letter of each name. Print each new name.\n",
    "for name in names:\n",
    "    print(name.strip().title())\n"
   ]
  },
  {
   "cell_type": "markdown",
   "metadata": {},
   "source": [
    "## Lists"
   ]
  },
  {
   "cell_type": "markdown",
   "metadata": {},
   "source": [
    "##### Declaring Lists"
   ]
  },
  {
   "cell_type": "code",
   "execution_count": 7,
   "metadata": {},
   "outputs": [
    {
     "name": "stdout",
     "output_type": "stream",
     "text": [
      "['Ryan', 'Alex', 'Kate', 'Saraa', 'Sam', 'Gus']\n",
      "[1, 2, 3, 4, 6, 7, 4, 5, 2]\n",
      "[1, 3, 4.5, 7.6, 'cool stuff', ['hello', 'goodbye']]\n"
     ]
    }
   ],
   "source": [
    "our_list = [] # < -- empty list\n",
    "#list will always be square brackets\n",
    "\n",
    "names = [\"Ryan\", \"Alex\", \"Kate\", \"Saraa\", \"Sam\", \"Gus\"]\n",
    "\n",
    "numbers = [1, 2, 3, 4, 6, 7, 4, 5, 2]\n",
    "\n",
    "print(names)\n",
    "print(numbers)\n",
    "\n",
    "stuff = [1, 3, 4.5, 7.6, \"cool stuff\", ['hello', 'goodbye']]\n",
    "\n",
    "print(stuff)"
   ]
  },
  {
   "cell_type": "markdown",
   "metadata": {},
   "source": [
    "##### Indexing a List"
   ]
  },
  {
   "cell_type": "code",
   "execution_count": 9,
   "metadata": {},
   "outputs": [
    {
     "name": "stdout",
     "output_type": "stream",
     "text": [
      "Alex\n",
      "['Ryan', 'Alex', 'Kate', 'Saraa', 'Sam', 'Gus']\n",
      "Gus\n",
      "\n",
      "\n",
      "['Alex', 'Kate', 'Saraa', 'Sam', 'Gus']\n",
      "['Kate', 'Saraa', 'Sam', 'Gus']\n",
      "\n",
      "\n",
      "['Ryan', 'Alex']\n",
      "\n",
      "\n",
      "['Alex', 'Saraa', 'Gus']\n",
      "\n",
      "\n",
      "['Gus', 'Sam', 'Saraa', 'Kate', 'Alex', 'Ryan']\n",
      "['Gus', 'Sam', 'Saraa', 'Kate', 'Alex', 'Ryan']\n"
     ]
    }
   ],
   "source": [
    "# [start: stop: step] --> last item [-1]\n",
    "names = [\"Ryan\", \"Alex\", \"Kate\", \"Saraa\", \"Sam\", \"Gus\"]\n",
    "\n",
    "#single index\n",
    "print(names[1])\n",
    "name = names[0]\n",
    "print(name)\n",
    "print(names[-1])#-1 will always be the last item in a list\n",
    "\n",
    "print(\"\\n\")\n",
    "#print starting a t index 1 and going to the end of the list\n",
    "print(names[1:])\n",
    "new_names = names[2:]\n",
    "print(new_names)\n",
    "\n",
    "print(\"\\n\")\n",
    "#print starting at the beginning of the list and going to a specified index\n",
    "print(names[:2])\n",
    "print(\"\\n\")\n",
    "\n",
    "#print starting at index -1 and stepping by 2\n",
    "print(names[1::2])\n",
    "print(\"\\n\")\n",
    "#print starting at the back and go to the front of the list\n",
    "print(names[::-1])\n",
    "reverse_list = names[::-1]\n",
    "print(reverse_list)"
   ]
  },
  {
   "cell_type": "markdown",
   "metadata": {},
   "source": [
    "### List Methods"
   ]
  },
  {
   "cell_type": "markdown",
   "metadata": {},
   "source": [
    "##### .append()"
   ]
  },
  {
   "cell_type": "code",
   "execution_count": 10,
   "metadata": {},
   "outputs": [
    {
     "name": "stdout",
     "output_type": "stream",
     "text": [
      "['Ryan', 'Alex', 'Kate', 'Saraa', 'Sam', 'Gus', 'Derrick']\n",
      "['Ryan', 'Alex', 'Kate', 'Saraa', 'Sam', 'Gus', 'Derrick', 'Aryan']\n"
     ]
    }
   ],
   "source": [
    "#our_list.append(thing we're appending)\n",
    "names = [\"Ryan\", \"Alex\", \"Kate\", \"Saraa\", \"Sam\", \"Gus\"]\n",
    "\n",
    "names.append('Derrick')\n",
    "print(names)\n",
    "\n",
    "names.append('Aryan')\n",
    "print(names)\n"
   ]
  },
  {
   "cell_type": "markdown",
   "metadata": {},
   "source": [
    "##### .insert()"
   ]
  },
  {
   "cell_type": "code",
   "execution_count": 12,
   "metadata": {},
   "outputs": [
    {
     "name": "stdout",
     "output_type": "stream",
     "text": [
      "['Ryan', 'Alex', 'Marc', 'Kate', 'Saraa', 'Sam', 'Gus']\n",
      "7\n",
      "['Ryan', 'Alex', 'Marc', 'Kate', 'Saraa', 'Sam', 'Gus', 'Eduardo', 'Eduardo']\n"
     ]
    }
   ],
   "source": [
    "#our_list.insert(index, value)\n",
    "names = [\"Ryan\", \"Alex\", \"Kate\", \"Saraa\", \"Sam\", \"Gus\"]\n",
    "names.insert(2, \"Marc\")\n",
    "print(names)\n",
    "\n",
    "print(len(names))\n",
    "\n",
    "names.insert(len(names), \"Eduardo\")\n",
    "names.append(\"Eduardo\")\n",
    "\n",
    "print(names)"
   ]
  },
  {
   "cell_type": "markdown",
   "metadata": {},
   "source": [
    "##### .pop()"
   ]
  },
  {
   "cell_type": "code",
   "execution_count": 16,
   "metadata": {},
   "outputs": [
    {
     "name": "stdout",
     "output_type": "stream",
     "text": [
      "['Alex', 'Kate', 'Saraa', 'Sam', 'Gus']\n",
      "Saraa\n",
      "['Alex', 'Kate', 'Sam', 'Gus']\n",
      "['Alex', 'Kate', 'Sam']\n"
     ]
    }
   ],
   "source": [
    "# default is the last value if no parameter is given\n",
    "# pop returns the element that was removed in case you want to assign it into a variable\n",
    "\n",
    "names = [\"Ryan\", \"Alex\", \"Kate\", \"Saraa\", \"Sam\", \"Gus\"]\n",
    "names.pop(0)\n",
    "print(names)\n",
    "\n",
    "popped_friend = names.pop(2)\n",
    "print(popped_friend)\n",
    "print(names)\n",
    "\n",
    "names.pop()\n",
    "print(names)\n"
   ]
  },
  {
   "cell_type": "markdown",
   "metadata": {},
   "source": [
    "##### .remove()"
   ]
  },
  {
   "cell_type": "code",
   "execution_count": 18,
   "metadata": {},
   "outputs": [
    {
     "name": "stdout",
     "output_type": "stream",
     "text": [
      "['Billy', 'Berry', 'Bertha', 'Bob', 'Bert']\n"
     ]
    }
   ],
   "source": [
    "# value to be removed, not an index\n",
    "names = ['Bob', 'Billy', 'Berry', \"Bob\", \"Bertha\", 'Bob', \"Bob\", 'Bert']\n",
    "#names.remove(\"Bob\")\n",
    "\n",
    "for name in names:\n",
    "    if name == \"Bob\":\n",
    "        names.remove(name)\n",
    "        \n",
    "print(names)\n"
   ]
  },
  {
   "cell_type": "markdown",
   "metadata": {},
   "source": [
    "### Working With Lists"
   ]
  },
  {
   "cell_type": "markdown",
   "metadata": {},
   "source": [
    "##### del()"
   ]
  },
  {
   "cell_type": "code",
   "execution_count": 20,
   "metadata": {},
   "outputs": [
    {
     "name": "stdout",
     "output_type": "stream",
     "text": [
      "['Billy', 'Berry', 'Bob', 'Bertha', 'Bob', 'Bob', 'Bert']\n"
     ]
    }
   ],
   "source": [
    "# index to be removed, not value \n",
    "names = ['Bob', 'Billy', 'Berry', \"Bob\", \"Bertha\", 'Bob', \"Bob\", 'Bert']\n",
    "del(names[0])\n",
    "print(names)\n",
    "\n",
    "#del(names)\n",
    "#print(names)\n",
    "\n",
    "\n"
   ]
  },
  {
   "cell_type": "markdown",
   "metadata": {},
   "source": [
    "##### min()"
   ]
  },
  {
   "cell_type": "code",
   "execution_count": 21,
   "metadata": {},
   "outputs": [
    {
     "name": "stdout",
     "output_type": "stream",
     "text": [
      "1\n",
      "Alphalpha\n"
     ]
    }
   ],
   "source": [
    "# return the smallest item in a list\n",
    "numbers = [2, 5, 3, 12, 1, 54]\n",
    "\n",
    "print(min(numbers))\n",
    "\n",
    "names = [\"Alphalpha\", \"Zoop\", \"Winifred\", \"alfred\"]\n",
    "\n",
    "#prioritize capital letters over lower case\n",
    "print(min(names))"
   ]
  },
  {
   "cell_type": "markdown",
   "metadata": {},
   "source": [
    "##### max()"
   ]
  },
  {
   "cell_type": "code",
   "execution_count": 22,
   "metadata": {},
   "outputs": [
    {
     "name": "stdout",
     "output_type": "stream",
     "text": [
      "1\n",
      "zebra man\n"
     ]
    }
   ],
   "source": [
    "# returns largest item in a list\n",
    "numbers = [2, 5, 3, 12, 1, 54]\n",
    "\n",
    "print(max(numbers))\n",
    "\n",
    "names = [\"Alphalpha\", \"Zoop\", \"Winifred\", \"alfred\", \"zebra man\"]\n",
    "\n",
    "print(max(names))"
   ]
  },
  {
   "cell_type": "markdown",
   "metadata": {},
   "source": [
    "##### sum()"
   ]
  },
  {
   "cell_type": "code",
   "execution_count": 23,
   "metadata": {},
   "outputs": [
    {
     "name": "stdout",
     "output_type": "stream",
     "text": [
      "77\n"
     ]
    }
   ],
   "source": [
    "# return the sum of all numbers in a list\n",
    "numbers = [2, 5, 3, 12, 1, 54]\n",
    "\n",
    "print(sum(numbers))\n",
    "\n"
   ]
  },
  {
   "cell_type": "markdown",
   "metadata": {},
   "source": [
    "##### sorted()"
   ]
  },
  {
   "cell_type": "code",
   "execution_count": 31,
   "metadata": {},
   "outputs": [
    {
     "name": "stdout",
     "output_type": "stream",
     "text": [
      "[1, 2, 3, 5, 12, 54]\n",
      "[2, 5, 3, 12, 1, 54]\n",
      "[1, 2, 3, 5, 12, 54]\n",
      "[2, 5, 3, 12, 1, 54]\n"
     ]
    }
   ],
   "source": [
    "#sorted will return a new sorted list, create a new variable\n",
    "numbers = [2, 5, 3, 12, 1, 54]\n",
    "\n",
    "print(sorted(numbers))\n",
    "\n",
    "print(numbers)\n",
    "\n",
    "sorted_list = sorted(numbers)\n",
    "print(sorted_list)\n",
    "print(numbers)"
   ]
  },
  {
   "cell_type": "markdown",
   "metadata": {},
   "source": [
    "##### .sort() <br>\n",
    "<p>Difference between sort and sorted, is that sorted doesn't change original list it returns a copy, while .sort changes the original list</p>"
   ]
  },
  {
   "cell_type": "code",
   "execution_count": 27,
   "metadata": {},
   "outputs": [
    {
     "name": "stdout",
     "output_type": "stream",
     "text": [
      "[54, 12, 5, 3, 2, 1]\n"
     ]
    }
   ],
   "source": [
    "#.sort() will sort the original list\n",
    "numbers = [2, 5, 3, 12, 1, 54]\n",
    "\n",
    "numbers.sort(reverse=True)\n",
    "\n",
    "print(numbers)"
   ]
  },
  {
   "cell_type": "markdown",
   "metadata": {},
   "source": [
    "##### Copying a List"
   ]
  },
  {
   "cell_type": "code",
   "execution_count": null,
   "metadata": {},
   "outputs": [],
   "source": [
    "# [:] copies a list, doesn't alter original'\n",
    "numbers = [2, 5, 3, 12, 1, 54]\n",
    "\n",
    "list_copy = numbers[:]\n",
    "\n",
    "print(\"This is my original list\", numbers)\n",
    "\n",
    "print(f\"this is my copy: {list copy})"
   ]
  },
  {
   "cell_type": "markdown",
   "metadata": {},
   "source": [
    "##### Looping Through Lists"
   ]
  },
  {
   "cell_type": "code",
   "execution_count": 36,
   "metadata": {},
   "outputs": [
    {
     "name": "stdout",
     "output_type": "stream",
     "text": [
      "Han Solo\n",
      "Leia Organa\n",
      "Luke Skywalker\n",
      "Lando Calrissian\n",
      "Mace Windu\n",
      "\n",
      "\n",
      "Han Solo\n",
      "Leia Organa\n",
      "Luke Skywalker\n",
      "Lando Calrissian\n",
      "Mace Windu\n",
      "1 Han Solo\n",
      "1 Leia Organa\n",
      "1 Luke Skywalker\n",
      "1 Lando Calrissian\n",
      "1 Mace Windu\n",
      "[(0, 'Han Solo'), (1, 'Leia Organa'), (2, 'Luke Skywalker'), (3, 'Lando Calrissian'), (4, 'Mace Windu')]\n"
     ]
    }
   ],
   "source": [
    "#Two ways to loop through a list. one is by index and the other is by value, using the \"in\" keyword\n",
    "names = [\"Han Solo\", \"Leia Organa\", \"Luke Skywalker\", \"Lando Calrissian\", \"Mace Windu\"]\n",
    "\n",
    "#looping by value\n",
    "for name in names:\n",
    "    print(name)\n",
    "print(\"\\n\")\n",
    "#looping by index with range(len)\n",
    "#print(len(names))\n",
    "#for i in range(5):\n",
    "#    print(i)\n",
    "\n",
    "for i in range(len(names)):\n",
    "    print(names[i])\n",
    "    \n",
    "#enumerate\n",
    "\n",
    "for i, name in enumerate(names):\n",
    "    print(1, name)\n",
    "    \n",
    "#print(list(enumerate(names)))"
   ]
  },
  {
   "cell_type": "markdown",
   "metadata": {},
   "source": [
    "##### 'in' keyword"
   ]
  },
  {
   "cell_type": "code",
   "execution_count": 38,
   "metadata": {},
   "outputs": [
    {
     "name": "stdout",
     "output_type": "stream",
     "text": [
      "Good day, Gus\n"
     ]
    }
   ],
   "source": [
    "names = [\"Ryan\", \"Alex\", \"Kate\", \"Saraa\", \"Sam\", \"Gus\"]\n",
    "\n",
    "if \"Jeremy\" in names:\n",
    "    print(\"Hello, Kate\")\n",
    "elif \"Gus\" in names:\n",
    "    print(\"Good day, Gus\")\n",
    "else:\n",
    "    print(\"So long and thanks for all the fist\")\n"
   ]
  },
  {
   "cell_type": "markdown",
   "metadata": {},
   "source": [
    "##### 'not in' keyword"
   ]
  },
  {
   "cell_type": "code",
   "execution_count": 40,
   "metadata": {},
   "outputs": [
    {
     "name": "stdout",
     "output_type": "stream",
     "text": [
      "Guten Tag, Jeremy\n"
     ]
    }
   ],
   "source": [
    "names = [\"Ryan\", \"Alex\", \"Kate\", \"Saraa\", \"Sam\", \"Gus\"]\n",
    "\n",
    "if \"Alex\" not in names:\n",
    "    print(\"Sorry Jeremy\")\n",
    "else:\n",
    "    print(\"Guten Tag, Jeremy\")\n"
   ]
  },
  {
   "cell_type": "markdown",
   "metadata": {},
   "source": [
    "##### Checking an Empty List"
   ]
  },
  {
   "cell_type": "code",
   "execution_count": 43,
   "metadata": {},
   "outputs": [
    {
     "name": "stdout",
     "output_type": "stream",
     "text": [
      "THis is an empy list, would ya just look at it\n",
      "that is not neat\n"
     ]
    }
   ],
   "source": [
    "l_2 = []\n",
    "l_3 = None\n",
    "\n",
    "if l_2 == []:\n",
    "    print(\"THis is an empy list, would ya just look at it\")\n",
    "if l_3 == l_2:\n",
    "    print(\"neat\")\n",
    "else:\n",
    "    print(\"that is not neat\")"
   ]
  },
  {
   "cell_type": "markdown",
   "metadata": {},
   "source": [
    "##### Removing Instances with a Loop"
   ]
  },
  {
   "cell_type": "code",
   "execution_count": null,
   "metadata": {},
   "outputs": [],
   "source": [
    "#while, remove\n",
    "\n",
    "\n"
   ]
  },
  {
   "cell_type": "markdown",
   "metadata": {},
   "source": [
    "### List Exercise <br>\n",
    "<p>Remove all duplicates<br><b>Extra: Create a program that will remove any duplicates from a given list</b></p>"
   ]
  },
  {
   "cell_type": "code",
   "execution_count": 45,
   "metadata": {},
   "outputs": [
    {
     "name": "stdout",
     "output_type": "stream",
     "text": [
      "['connor']\n",
      "['connor']\n",
      "['connor', 'bob']\n",
      "['connor', 'bob']\n",
      "['connor', 'bob', 'evan']\n",
      "['connor', 'bob', 'evan', 'max']\n",
      "['connor', 'bob', 'evan', 'max']\n",
      "['connor', 'bob', 'evan', 'max', 2]\n",
      "['connor', 'bob', 'evan', 'max', 2]\n",
      "['connor', 'bob', 'evan', 'max', 2]\n",
      "['connor', 'bob', 'evan', 'max', 2, 3]\n",
      "['connor', 'bob', 'evan', 'max', 2, 3]\n",
      "['connor', 'bob', 'evan', 'max', 2, 3, 4]\n",
      "['connor', 'bob', 'evan', 'max', 2, 3, 4]\n",
      "['connor', 'bob', 'evan', 'max', 2, 3, 4, 'kevin']\n"
     ]
    }
   ],
   "source": [
    "names = ['connor', 'connor', 'bob', 'connor', 'evan', 'max', 'evan', 2, 2, 2, 3, 3, 4, 'bob', 'kevin']\n",
    "# Hint 1: You will need an append\n",
    "# Hint 2: Using an empty list will make life easier\n",
    "\n",
    "unique = []\n",
    "for i in names:\n",
    "    if i not in unique:\n",
    "        unique.append(i)\n",
    "    print(unique)\n",
    "\n"
   ]
  },
  {
   "cell_type": "markdown",
   "metadata": {},
   "source": [
    "### List Comprehensions <br>\n",
    "<p>Creating a quickly generated list to work with<br>*result*  = [*transform*    *iteration*         *filter*     ]</p>"
   ]
  },
  {
   "cell_type": "markdown",
   "metadata": {},
   "source": [
    "##### In a list comprehension we have a few pieces:\n",
    "1. The first is the counter/ variable - IN this the variable is x\n",
    "2. then we have a transform for the variable\n",
    "3. The finale part of a list comp is called the condition\n",
    "\n",
    "```python\n",
    "    [transform, iteration/variable, condition]\n",
    "```"
   ]
  },
  {
   "cell_type": "code",
   "execution_count": 48,
   "metadata": {
    "scrolled": true
   },
   "outputs": [
    {
     "name": "stdout",
     "output_type": "stream",
     "text": [
      "[4, 16, 25, 36, 49, 64, 81, 100]\n",
      "[4, 16, 25, 36, 49, 64, 81, 100]\n",
      "[4, 16, 36, 64, 100]\n"
     ]
    }
   ],
   "source": [
    "nums = [2, 4, 5, 6, 7, 8, 9, 10]\n",
    "nums_squared = []\n",
    "for num in nums:\n",
    "    nums_squared.append(num**2)\n",
    "    \n",
    "print(nums_squared)\n",
    "\n",
    "nums_squared2 = [num**2 for num in nums]\n",
    "\n",
    "print(nums_squared2)\n",
    "\n",
    "nums_squared3 = [num**2 for num in nums if num%2==0]\n",
    "\n",
    "print(nums_squared3)\n"
   ]
  },
  {
   "cell_type": "markdown",
   "metadata": {},
   "source": [
    "There are a few benefits to using List comprehensions. The most obvious would be that we now have shorter code to work with instead of using 3+ lines of code in the for loop variant.\n",
    "\n",
    "Another is an added benefit to memory usage. Since the list's memory is allocated first before adding elements to it, we don't have to resize the list once we add elements to it.\n",
    "\n",
    "Lastly, list comprehensions are considered the \"pythonic\" way to write code by the PEP8 standards (Python Style Guide)"
   ]
  },
  {
   "cell_type": "markdown",
   "metadata": {},
   "source": [
    "### Tuples <br>\n",
    "<p><b>Defined as an immutable list</b></p><br>Seperated by commas using parenthesis"
   ]
  },
  {
   "cell_type": "code",
   "execution_count": 49,
   "metadata": {},
   "outputs": [
    {
     "name": "stdout",
     "output_type": "stream",
     "text": [
      "(1, 2, 3)\n",
      "(4, 5, 6)\n",
      "<class 'tuple'>\n",
      "1\n",
      "2\n",
      "3\n",
      "2\n"
     ]
    }
   ],
   "source": [
    "tup_1 = (1,2,3) #declaring a tuple\n",
    "tup_2 = 4,5,6\n",
    "\n",
    "print(tup_1)\n",
    "print(tup_2)\n",
    "\n",
    "print(type(tup_1))\n",
    "\n",
    "#can loop through because tuple is an iterable\n",
    "for num in tup_1:\n",
    "    print(num)\n",
    "    \n",
    "print(tup_1[1])"
   ]
  },
  {
   "cell_type": "code",
   "execution_count": null,
   "metadata": {},
   "outputs": [],
   "source": [
    "#things you cannot do with tuples:\n",
    "#you cannot alter them\n",
    "#you cannot add to them\n",
    "#you cannont remove from them\n",
    "#leave tuples alone\n",
    "\n",
    "tup_1 = (1,2,3)\n",
    "\n",
    "tup_1.add(1)"
   ]
  },
  {
   "cell_type": "markdown",
   "metadata": {},
   "source": [
    "##### sorted()"
   ]
  },
  {
   "cell_type": "code",
   "execution_count": 50,
   "metadata": {},
   "outputs": [
    {
     "name": "stdout",
     "output_type": "stream",
     "text": [
      "[1, 5, 10, 20, 95, 123]\n",
      "(1, 5, 10, 20, 95, 123)\n"
     ]
    }
   ],
   "source": [
    "tup = (20, 5, 1, 10, 95, 123)\n",
    "\n",
    "sorted_tup = sorted(tup)\n",
    "print(sorted_tup)\n",
    "new_tup = tuple(sorted_tup)\n",
    "\n",
    "print(new_tup)"
   ]
  },
  {
   "cell_type": "code",
   "execution_count": null,
   "metadata": {},
   "outputs": [],
   "source": []
  },
  {
   "cell_type": "markdown",
   "metadata": {},
   "source": [
    "##### Adding values to a Tuple"
   ]
  },
  {
   "cell_type": "code",
   "execution_count": 51,
   "metadata": {},
   "outputs": [
    {
     "name": "stdout",
     "output_type": "stream",
     "text": [
      "(20, 5, 1, 10, 95, 123)\n",
      "(20, 5, 1, 10, 95, 123, 6)\n"
     ]
    }
   ],
   "source": [
    "tup = (20, 5, 1, 10, 95, 123)\n",
    "print(tup)\n",
    "tup = tup + (6, )\n",
    "\n",
    "print(tup)"
   ]
  },
  {
   "cell_type": "markdown",
   "metadata": {},
   "source": [
    "# Exercises"
   ]
  },
  {
   "cell_type": "markdown",
   "metadata": {},
   "source": [
    "## Exercise 1 <br>\n",
    "<p>Using the given list, print out a filtered version of the list with only the numbers that are less than ten</b></i></p><br>\n"
   ]
  },
  {
   "cell_type": "code",
   "execution_count": 52,
   "metadata": {},
   "outputs": [
    {
     "name": "stdout",
     "output_type": "stream",
     "text": [
      "1\n",
      "5\n",
      "8\n",
      "9\n"
     ]
    }
   ],
   "source": [
    "alist = [1,11,14,5,8,9]\n",
    "blist = []\n",
    "for i in alist:\n",
    "    if i < 10:\n",
    "        print(i)"
   ]
  },
  {
   "cell_type": "markdown",
   "metadata": {},
   "source": [
    "## Exercise 2 <br>\n",
    "<p>Merge and sort the two lists below<br>\n",
    "<b><i>Hint: You can use the .sort() method</i></b></p>"
   ]
  },
  {
   "cell_type": "code",
   "execution_count": 53,
   "metadata": {},
   "outputs": [
    {
     "name": "stdout",
     "output_type": "stream",
     "text": [
      "[1, 2, 3, 3, 4, 4, 5, 5, 6, 6, 7, 8, 10]\n"
     ]
    }
   ],
   "source": [
    "l_1 = [1,2,3,4,5,6]\n",
    "l_2 = [3,4,5,6,7,8,10]\n",
    "\n",
    "def merge(l_1, l_2):\n",
    "    merge_list = l_1 + l_2\n",
    "    merge_list.sort()\n",
    "    return(merge_list)\n",
    "\n",
    "l_1 = [1,2,3,4,5,6]\n",
    "l_2 = [3,4,5,6,7,8,10]\n",
    "print(merge(l_1, l_2))\n",
    "\n"
   ]
  },
  {
   "cell_type": "markdown",
   "metadata": {},
   "source": [
    "## Exercise 3 <br>\n",
    "<p>Square every number from 1 to 15<br>\n"
   ]
  },
  {
   "cell_type": "code",
   "execution_count": 54,
   "metadata": {},
   "outputs": [
    {
     "name": "stdout",
     "output_type": "stream",
     "text": [
      "1\n",
      "4\n",
      "9\n",
      "16\n",
      "25\n",
      "36\n",
      "49\n",
      "64\n",
      "81\n",
      "100\n",
      "121\n",
      "144\n",
      "169\n",
      "196\n",
      "225\n"
     ]
    }
   ],
   "source": [
    "x = [1, 2, 3, 4, 5, 6, 7, 8, 9, 10, 11, 12, 13, 14, 15]\n",
    "for i in x:\n",
    "    print(i**2)"
   ]
  },
  {
   "cell_type": "markdown",
   "metadata": {},
   "source": [
    "## Exercise 4<br>\n",
    "<p>Using List Comprehension and the given list, print out a filtered list with \n",
    "only the names that start with the letter 'a'. \n",
    "The names in the outputted list should be title cased and have no whitespace.<br>\n"
   ]
  },
  {
   "cell_type": "code",
   "execution_count": 60,
   "metadata": {},
   "outputs": [
    {
     "name": "stdout",
     "output_type": "stream",
     "text": [
      "['Amy', 'Alex']\n"
     ]
    }
   ],
   "source": [
    "names_list = ['   amy', 'Briant', 'Ryan ', ' Alex', 'steve', '  ']\n",
    "#expected output = ['Amy', 'Alex']\n",
    "\n",
    "clean_names = [name.title().strip() for name in names_list if name != '  ']\n",
    "\n",
    "a_names = [cname for cname in clean_names if cname[0] == \"A\"]\n",
    "\n",
    "print(a_names)\n"
   ]
  },
  {
   "cell_type": "markdown",
   "metadata": {},
   "source": [
    "## Exercise 5 <br>\n",
    "<p>Print all Prime numbers from 1 to 100<br>\n"
   ]
  },
  {
   "cell_type": "code",
   "execution_count": 59,
   "metadata": {},
   "outputs": [
    {
     "name": "stdout",
     "output_type": "stream",
     "text": [
      "1\n",
      "2\n",
      "3\n",
      "5\n",
      "7\n",
      "11\n",
      "13\n",
      "17\n",
      "19\n",
      "23\n",
      "29\n",
      "31\n",
      "37\n",
      "41\n",
      "43\n",
      "47\n",
      "53\n",
      "59\n",
      "61\n",
      "67\n",
      "71\n",
      "73\n",
      "79\n",
      "83\n",
      "89\n",
      "97\n"
     ]
    }
   ],
   "source": [
    "def prime(n):\n",
    "    p = True\n",
    "    for i in range(2,n):\n",
    "        if (n%i == 0):\n",
    "            p = False\n",
    "    return p\n",
    "\n",
    "for j in range(1,100):\n",
    "    if prime(j):\n",
    "        print (j)"
   ]
  }
 ],
 "metadata": {
  "kernelspec": {
   "display_name": "Python 3 (ipykernel)",
   "language": "python",
   "name": "python3"
  },
  "language_info": {
   "codemirror_mode": {
    "name": "ipython",
    "version": 3
   },
   "file_extension": ".py",
   "mimetype": "text/x-python",
   "name": "python",
   "nbconvert_exporter": "python",
   "pygments_lexer": "ipython3",
   "version": "3.11.3"
  }
 },
 "nbformat": 4,
 "nbformat_minor": 2
}
